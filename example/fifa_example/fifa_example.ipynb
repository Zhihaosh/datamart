{
 "cells": [
  {
   "cell_type": "code",
   "execution_count": 1,
   "metadata": {
    "collapsed": true
   },
   "outputs": [],
   "source": [
    "from datamart.augment import Augment\n",
    "from datamart.utilities.utils import Utils\n",
    "import pandas as pd\n",
    "import json"
   ]
  },
  {
   "cell_type": "code",
   "execution_count": 2,
   "metadata": {},
   "outputs": [],
   "source": [
    "es_index = \"datamart_all\"\n",
    "\n",
    "augment = Augment(es_index=es_index)"
   ]
  },
  {
   "cell_type": "markdown",
   "metadata": {},
   "source": [
    "#### Read the supply dataset"
   ]
  },
  {
   "cell_type": "code",
   "execution_count": 3,
   "metadata": {},
   "outputs": [
    {
     "name": "stdout",
     "output_type": "stream",
     "text": [
      "   d3mIndex  GameID        Date          Team      Opponent  \\\n0         0       0  14-06-2018        Russia  Saudi Arabia   \n1         1       1  14-06-2018  Saudi Arabia        Russia   \n2         2       2  15-06-2018         Egypt       Uruguay   \n3         3       3  15-06-2018       Uruguay         Egypt   \n4         4       4  15-06-2018       Morocco          Iran   \n5         5       5  15-06-2018          Iran       Morocco   \n6         6       6  15-06-2018      Portugal         Spain   \n7         7       7  15-06-2018         Spain      Portugal   \n8         8       8  16-06-2018        France     Australia   \n9         9       9  16-06-2018     Australia        France   \n\n   Ball Possession %  Off-Target  Blocked  Offsides  Saves  Pass Accuracy %  \\\n0                 40           3        3         3      0               78   \n1                 60           3        3         1      2               86   \n2                 43           3        2         1      3               78   \n3                 57           6        4         1      3               86   \n4                 64           6        4         0      2               86   \n5                 36           5        1         0      2               86   \n6                 39           2        3         1      2               87   \n7                 61           5        2         3      0               93   \n8                 51           4        3         0      1               87   \n9                 49           2        1         0      4               85   \n\n   Passes  Distance Covered (Kms)  Yellow & Red  Man of the Match  1st Goal  \\\n0     306                     118             0                 1      12.0   \n1     511                     105             0                 0       NaN   \n2     395                     112             0                 0       NaN   \n3     589                     111             0                 1      89.0   \n4     433                     101             0                 0       NaN   \n5     194                     100             0                 1      90.0   \n6     366                     102             0                 0       4.0   \n7     727                     103             0                 1      24.0   \n8     484                     103             0                 1      58.0   \n9     390                     111             0                 0      62.0   \n\n         Round PSO  Goals in PSO  Own goals  \n0  Group Stage  No             0        NaN  \n1  Group Stage  No             0        NaN  \n2  Group Stage  No             0        NaN  \n3  Group Stage  No             0        NaN  \n4  Group Stage  No             0        1.0  \n5  Group Stage  No             0        NaN  \n6  Group Stage  No             0        NaN  \n7  Group Stage  No             0        NaN  \n8  Group Stage  No             0        NaN  \n9  Group Stage  No             0        1.0  \n"
     ]
    }
   ],
   "source": [
    "old_df = pd.read_csv(\"./example/fifa_example/fifa.csv\")\n",
    "print(old_df.iloc[:10, :])"
   ]
  },
  {
   "cell_type": "markdown",
   "metadata": {},
   "source": [
    "#### Datamart finds named entity column for query"
   ]
  },
  {
   "cell_type": "code",
   "execution_count": 4,
   "metadata": {
    "collapsed": false
   },
   "outputs": [
    {
     "name": "stdout",
     "output_type": "stream",
     "text": [
      "Team\nOpponent\nRound\nPSO\n"
     ]
    }
   ],
   "source": [
    "for col in old_df:\n",
    "    if Utils.is_column_able_to_query(old_df[col]):\n",
    "        print(col)"
   ]
  },
  {
   "cell_type": "markdown",
   "metadata": {},
   "source": [
    "#### Query by named entity column and specified string"
   ]
  },
  {
   "cell_type": "code",
   "execution_count": 5,
   "metadata": {},
   "outputs": [
    {
     "name": "stdout",
     "output_type": "stream",
     "text": [
      "Team column matched: 1\n"
     ]
    }
   ],
   "source": [
    "query_string = \"fifa\"\n",
    "\n",
    "query_result = augment.query(\n",
    "    col=old_df['Team'],\n",
    "    query_string=query_string\n",
    ")\n",
    "print(\"Team column matched:\", len(query_result))\n"
   ]
  },
  {
   "cell_type": "code",
   "execution_count": 6,
   "metadata": {},
   "outputs": [
    {
     "name": "stdout",
     "output_type": "stream",
     "text": [
      "[127860000]\n"
     ]
    }
   ],
   "source": [
    "print([x[\"_source\"][\"datamart_id\"] for x in query_result])"
   ]
  },
  {
   "cell_type": "markdown",
   "metadata": {},
   "source": [
    "#### Show the metadata hitted"
   ]
  },
  {
   "cell_type": "code",
   "execution_count": 7,
   "metadata": {},
   "outputs": [
    {
     "name": "stdout",
     "output_type": "stream",
     "text": [
      "{\n  \"_index\": \"datamart_all\",\n  \"_type\": \"_doc\",\n  \"_id\": \"127860000\",\n  \"_score\": 85.667046,\n  \"_source\": {\n    \"datamart_id\": 127860000,\n    \"title\": \"FIFA World Cup\",\n    \"description\": \"FIFA World Cup\",\n    \"url\": \"https://www.football-data.org\",\n    \"keywords\": [\n      \"football\",\n      \"competition\"\n    ],\n    \"provenance\": {\n      \"source\": \"www.football-data.org\"\n    },\n    \"materialization\": {\n      \"python_path\": \"football_match_materializer\",\n      \"arguments\": {\n        \"uri\": \"/v2/competitions/2000/matches?limit=999\",\n        \"token\": \"d019bc4541c9490fabcba6806cbcc42b\"\n      }\n    },\n    \"variables\": [\n      {\n        \"datamart_id\": 127860001,\n        \"name\": \"id\",\n        \"semantic_type\": [\n          \"http://schema.org/Integer\"\n        ],\n        \"description\": \"column name: id, dtype: int64\"\n      },\n      {\n        \"datamart_id\": 127860002,\n        \"name\": \"season_id\",\n        \"semantic_type\": [\n          \"http://schema.org/Integer\"\n        ],\n        \"description\": \"column name: season_id, dtype: int64\"\n      },\n      {\n        \"datamart_id\": 127860003,\n        \"name\": \"season_startDate\",\n        \"semantic_type\": [\n          \"https://metadata.datadrivendiscovery.org/types/Time\"\n        ],\n        \"description\": \"column name: season_startDate, dtype: object\"\n      },\n      {\n        \"datamart_id\": 127860004,\n        \"name\": \"season_endDate\",\n        \"semantic_type\": [\n          \"https://metadata.datadrivendiscovery.org/types/Time\"\n        ],\n        \"description\": \"column name: season_endDate, dtype: object\"\n      },\n      {\n        \"datamart_id\": 127860005,\n        \"name\": \"season_currentMatchday\",\n        \"semantic_type\": [],\n        \"description\": \"column name: season_currentMatchday, dtype: int64\"\n      },\n      {\n        \"datamart_id\": 127860006,\n        \"name\": \"utcDate\",\n        \"semantic_type\": [\n          \"https://metadata.datadrivendiscovery.org/types/Time\"\n        ],\n        \"temporal_coverage\": {\n          \"start\": \"2018-06-14T15:00:00+00:00\",\n          \"end\": \"2018-07-15T15:00:00+00:00\"\n        },\n        \"description\": \"column name: utcDate, dtype: object\"\n      },\n      {\n        \"datamart_id\": 127860007,\n        \"name\": \"status\",\n        \"semantic_type\": [\n          \"http://schema.org/Text\"\n        ],\n        \"description\": \"column name: status, dtype: object\"\n      },\n      {\n        \"datamart_id\": 127860008,\n        \"name\": \"matchday\",\n        \"semantic_type\": [],\n        \"description\": \"column name: matchday, dtype: float64\"\n      },\n      {\n        \"datamart_id\": 127860009,\n        \"name\": \"stage\",\n        \"semantic_type\": [\n          \"http://schema.org/Text\"\n        ],\n        \"description\": \"column name: stage, dtype: object\"\n      },\n      {\n        \"datamart_id\": 127860010,\n        \"name\": \"group\",\n        \"semantic_type\": [\n          \"http://schema.org/Text\"\n        ],\n        \"description\": \"column name: group, dtype: object\"\n      },\n      {\n        \"datamart_id\": 127860011,\n        \"name\": \"lastUpdated\",\n        \"semantic_type\": [\n          \"https://metadata.datadrivendiscovery.org/types/Time\"\n        ],\n        \"temporal_coverage\": {\n          \"start\": \"2018-06-22T10:00:01+00:00\",\n          \"end\": \"2018-07-15T20:00:01+00:00\"\n        },\n        \"description\": \"column name: lastUpdated, dtype: object\"\n      },\n      {\n        \"datamart_id\": 127860012,\n        \"name\": \"score_winner\",\n        \"semantic_type\": [\n          \"http://schema.org/Text\"\n        ],\n        \"description\": \"column name: score_winner, dtype: object\"\n      },\n      {\n        \"datamart_id\": 127860013,\n        \"name\": \"score_duration\",\n        \"semantic_type\": [\n          \"http://schema.org/Text\"\n        ],\n        \"description\": \"column name: score_duration, dtype: object\"\n      },\n      {\n        \"datamart_id\": 127860014,\n        \"name\": \"score_fullTime_homeTeam\",\n        \"semantic_type\": [\n          \"http://schema.org/Integer\"\n        ],\n        \"description\": \"column name: score_fullTime_homeTeam, dtype: int64\"\n      },\n      {\n        \"datamart_id\": 127860015,\n        \"name\": \"score_fullTime_awayTeam\",\n        \"semantic_type\": [\n          \"http://schema.org/Integer\"\n        ],\n        \"description\": \"column name: score_fullTime_awayTeam, dtype: int64\"\n      },\n      {\n        \"datamart_id\": 127860016,\n        \"name\": \"score_halfTime_homeTeam\",\n        \"semantic_type\": [\n          \"http://schema.org/Integer\"\n        ],\n        \"description\": \"column name: score_halfTime_homeTeam, dtype: int64\"\n      },\n      {\n        \"datamart_id\": 127860017,\n        \"name\": \"score_halfTime_awayTeam\",\n        \"semantic_type\": [\n          \"http://schema.org/Integer\"\n        ],\n        \"description\": \"column name: score_halfTime_awayTeam, dtype: int64\"\n      },\n      {\n        \"datamart_id\": 127860018,\n        \"name\": \"score_extraTime_homeTeam\",\n        \"semantic_type\": [],\n        \"description\": \"column name: score_extraTime_homeTeam, dtype: float64\"\n      },\n      {\n        \"datamart_id\": 127860019,\n        \"name\": \"score_extraTime_awayTeam\",\n        \"semantic_type\": [],\n        \"description\": \"column name: score_extraTime_awayTeam, dtype: float64\"\n      },\n      {\n        \"datamart_id\": 127860020,\n        \"name\": \"score_penalties_homeTeam\",\n        \"semantic_type\": [],\n        \"description\": \"column name: score_penalties_homeTeam, dtype: float64\"\n      },\n      {\n        \"datamart_id\": 127860021,\n        \"name\": \"score_penalties_awayTeam\",\n        \"semantic_type\": [],\n        \"description\": \"column name: score_penalties_awayTeam, dtype: float64\"\n      },\n      {\n        \"datamart_id\": 127860022,\n        \"name\": \"homeTeam_id\",\n        \"semantic_type\": [\n          \"http://schema.org/Integer\"\n        ],\n        \"description\": \"column name: homeTeam_id, dtype: int64\"\n      },\n      {\n        \"datamart_id\": 127860023,\n        \"name\": \"homeTeam_name\",\n        \"semantic_type\": [\n          \"http://schema.org/Text\"\n        ],\n        \"named_entity\": [\n          \"Egypt\",\n          \"Uruguay\",\n          \"Colombia\",\n          \"Argentina\",\n          \"Tunisia\",\n          \"France\",\n          \"Korea Republic\",\n          \"Panama\",\n          \"Iceland\",\n          \"Mexico\",\n          \"Croatia\",\n          \"England\",\n          \"Switzerland\",\n          \"Poland\",\n          \"Serbia\",\n          \"Saudi Arabia\",\n          \"Spain\",\n          \"Belgium\",\n          \"Costa Rica\",\n          \"Australia\",\n          \"Russia\",\n          \"Senegal\",\n          \"Brazil\",\n          \"Iran\",\n          \"Denmark\",\n          \"Japan\",\n          \"Portugal\",\n          \"Nigeria\",\n          \"Germany\",\n          \"Sweden\",\n          \"Peru\",\n          \"Morocco\"\n        ],\n        \"description\": \"column name: homeTeam_name, dtype: object\"\n      },\n      {\n        \"datamart_id\": 127860024,\n        \"name\": \"awayTeam_id\",\n        \"semantic_type\": [\n          \"http://schema.org/Integer\"\n        ],\n        \"description\": \"column name: awayTeam_id, dtype: int64\"\n      },\n      {\n        \"datamart_id\": 127860025,\n        \"name\": \"awayTeam_name\",\n        \"semantic_type\": [\n          \"http://schema.org/Text\"\n        ],\n        \"named_entity\": [\n          \"Uruguay\",\n          \"Egypt\",\n          \"Colombia\",\n          \"Argentina\",\n          \"Tunisia\",\n          \"France\",\n          \"Korea Republic\",\n          \"Panama\",\n          \"Iceland\",\n          \"Mexico\",\n          \"England\",\n          \"Croatia\",\n          \"Switzerland\",\n          \"Serbia\",\n          \"Poland\",\n          \"Saudi Arabia\",\n          \"Spain\",\n          \"Belgium\",\n          \"Costa Rica\",\n          \"Australia\",\n          \"Russia\",\n          \"Senegal\",\n          \"Brazil\",\n          \"Iran\",\n          \"Denmark\",\n          \"Japan\",\n          \"Portugal\",\n          \"Nigeria\",\n          \"Germany\",\n          \"Sweden\",\n          \"Peru\",\n          \"Morocco\"\n        ],\n        \"description\": \"column name: awayTeam_name, dtype: object\"\n      },\n      {\n        \"datamart_id\": 127860026,\n        \"name\": \"referees_0_id\",\n        \"semantic_type\": [\n          \"http://schema.org/Integer\"\n        ],\n        \"description\": \"column name: referees_0_id, dtype: int64\"\n      },\n      {\n        \"datamart_id\": 127860027,\n        \"name\": \"referees_0_name\",\n        \"semantic_type\": [\n          \"http://schema.org/Text\"\n        ],\n        \"named_entity\": [\n          \"Bj\\u00f6rn Kuipers\",\n          \"Enrique C\\u00e1ceres\",\n          \"Malang Di\\u00e9dhiou\",\n          \"Sandro Ricci\",\n          \"N\\u00e9stor Pitana\",\n          \"Mohammed Abdulla Hassan\",\n          \"Matt Conger\",\n          \"Jair Marrufo\",\n          \"Sergey Karasev\",\n          \"Antonio Mat\\u00e9u\",\n          \"Cl\\u00e9ment Turpin\",\n          \"Damir Skomina\",\n          \"Wilmar Rold\\u00e1n\",\n          \"Alireza Faghani\",\n          \"Gehad Grisha\",\n          \"Milorad Ma\\u017ei\\u0107\",\n          \"Nawaf Shukralla\",\n          \"Gianluca Rocchi\",\n          \"Andr\\u00e9s Cunha\",\n          \"C\\u00e9sar Arturo Ramos\",\n          \"Janny Sikazwe\",\n          \"C\\u00fcneyt \\u00c7ak\\u03b9r\",\n          \"Ravshan Irmatov\",\n          \"Szymon Marciniak\",\n          \"Bakary Papa Gassama\",\n          \"Felix Brych\",\n          \"C\\u00e9sar Ramos\",\n          \"Mark Geiger\",\n          \"Joel Aguilar\"\n        ],\n        \"description\": \"column name: referees_0_name, dtype: object\"\n      },\n      {\n        \"datamart_id\": 127860028,\n        \"name\": \"referees_0_nationality\",\n        \"semantic_type\": [],\n        \"description\": \"column name: referees_0_nationality, dtype: object\"\n      },\n      {\n        \"datamart_id\": 127860029,\n        \"name\": \"referees_1_id\",\n        \"semantic_type\": [\n          \"http://schema.org/Integer\"\n        ],\n        \"description\": \"column name: referees_1_id, dtype: int64\"\n      },\n      {\n        \"datamart_id\": 127860030,\n        \"name\": \"referees_1_name\",\n        \"semantic_type\": [\n          \"http://schema.org/Text\"\n        ],\n        \"named_entity\": [\n          \"Bahattin Duran\",\n          \"Joe Fletcher\",\n          \"Jure Praprotnik\",\n          \"Elenito Di Liberatore\",\n          \"Pau Cebri\\u00e1n\",\n          \"Mohamed Ahmed Al Hammadi\",\n          \"Marvin Torrentera\",\n          \"Reza Sokhandan\",\n          \"Abdukhamidullo Rasulov\",\n          \"Corey Rockwell\",\n          \"Redouane Achik\",\n          \"Eduardo Cardozo\",\n          \"Jerson dos Santos\",\n          \"Nicol\\u00e1s Tar\\u00e1n\",\n          \"Juan Pablo Belatti\",\n          \"Mark Borsch\",\n          \"Emerson Augusto De Carvalho\",\n          \"Nicolas Danos\",\n          \"Hern\\u00e1n Maidana\",\n          \"Sander van Roekel\",\n          \"Jean-Claude Birumushahu\",\n          \"Anton Averianov\",\n          \"Djibril Camara\",\n          \"Milovan Risti\\u0107\",\n          \"Pawe\\u0142 Sokolnicki\",\n          \"Simon Lount\",\n          \"Yaser Tulefat\",\n          \"Alexander Guzm\\u00e1n\",\n          \"Juan Zumba\"\n        ],\n        \"description\": \"column name: referees_1_name, dtype: object\"\n      },\n      {\n        \"datamart_id\": 127860031,\n        \"name\": \"referees_1_nationality\",\n        \"semantic_type\": [],\n        \"description\": \"column name: referees_1_nationality, dtype: object\"\n      },\n      {\n        \"datamart_id\": 127860032,\n        \"name\": \"referees_2_id\",\n        \"semantic_type\": [\n          \"http://schema.org/Integer\"\n        ],\n        \"description\": \"column name: referees_2_id, dtype: int64\"\n      },\n      {\n        \"datamart_id\": 127860033,\n        \"name\": \"referees_2_name\",\n        \"semantic_type\": [\n          \"http://schema.org/Text\"\n        ],\n        \"named_entity\": [\n          \"Marcelo Carvalho Van Gasse\",\n          \"Frank Anderson\",\n          \"Tar\\u0131k Ongun\",\n          \"Stefan Lupp\",\n          \"Waleed Ahmed Ali\",\n          \"Abdelhak Etchiali\",\n          \"Mauricio Espinosa\",\n          \"Mauro Tonolini\",\n          \"Roberto D\\u00edaz\",\n          \"Taleb Salem Al Marri\",\n          \"Dalibor \\u0110ur\\u0111evi\\u0107\",\n          \"Juan Carlos Mora\",\n          \"Juan Zorrilla\",\n          \"Tomasz Listkiewicz\",\n          \"Miguel \\u00c1ngel Hern\\u00e1ndez\",\n          \"Erwin Zeinstra\",\n          \"Zakhele Siwela\",\n          \"Juan Pablo Belatti\",\n          \"Tevita Makasini\",\n          \"Jakhongir Saidov\",\n          \"Christian de la Cruz\",\n          \"Cyril Gringore\",\n          \"Hern\\u00e1n Maidana\",\n          \"El Hadji Malick Samba\",\n          \"Tikhon Kalugin\",\n          \"Mohammadreza Mansouri\",\n          \"Hasan Mohamed Al Mahri\",\n          \"Robert Vukan\",\n          \"Juan Zumba\"\n        ],\n        \"description\": \"column name: referees_2_name, dtype: object\"\n      },\n      {\n        \"datamart_id\": 127860034,\n        \"name\": \"referees_2_nationality\",\n        \"semantic_type\": [],\n        \"description\": \"column name: referees_2_nationality, dtype: object\"\n      },\n      {\n        \"datamart_id\": 127860035,\n        \"name\": \"referees_3_id\",\n        \"semantic_type\": [\n          \"http://schema.org/Integer\"\n        ],\n        \"description\": \"column name: referees_3_id, dtype: int64\"\n      },\n      {\n        \"datamart_id\": 127860036,\n        \"name\": \"referees_3_name\",\n        \"semantic_type\": [\n          \"http://schema.org/Text\"\n        ],\n        \"named_entity\": [\n          \"Norbert Hauata\",\n          \"John Pitti\",\n          \"Bj\\u00f6rn Kuipers\",\n          \"Enrique C\\u00e1ceres\",\n          \"Malang Di\\u00e9dhiou\",\n          \"Sandro Ricci\",\n          \"Mohammed Abdulla Hassan\",\n          \"Matt Conger\",\n          \"Mehdi Abid Charef\",\n          \"Ry\\u016bji Sat\\u014d\",\n          \"Abdelrahman Al Jassim\",\n          \"Julio Bascu\\u00f1\\u00e1n\",\n          \"Sergey Karasev\",\n          \"Jair Marrufo\",\n          \"Antonio Mat\\u00e9u\",\n          \"Cl\\u00e9ment Turpin\",\n          \"Damir Skomina\",\n          \"Wilmar Rold\\u00e1n\",\n          \"Alireza Faghani\",\n          \"Milorad Ma\\u017ei\\u0107\",\n          \"Bamlak Tessema\",\n          \"Nawaf Shukralla\",\n          \"Gianluca Rocchi\",\n          \"Andr\\u00e9s Cunha\",\n          \"C\\u00e9sar Arturo Ramos\",\n          \"Janny Sikazwe\",\n          \"C\\u00fcneyt \\u00c7ak\\u03b9r\",\n          \"Bakary Papa Gassama\",\n          \"Ricardo Montero\"\n        ],\n        \"description\": \"column name: referees_3_name, dtype: object\"\n      },\n      {\n        \"datamart_id\": 127860037,\n        \"name\": \"referees_3_nationality\",\n        \"semantic_type\": [],\n        \"description\": \"column name: referees_3_nationality, dtype: object\"\n      },\n      {\n        \"datamart_id\": 127860038,\n        \"name\": \"referees_4_id\",\n        \"semantic_type\": [\n          \"http://schema.org/Integer\"\n        ],\n        \"description\": \"column name: referees_4_id, dtype: int64\"\n      },\n      {\n        \"datamart_id\": 127860039,\n        \"name\": \"referees_4_name\",\n        \"semantic_type\": [\n          \"http://schema.org/Text\"\n        ],\n        \"named_entity\": [\n          \"Hiroshi Yamauchi\",\n          \"Bahattin Duran\",\n          \"Massimiliano Irrati\",\n          \"Felix Zwayer\",\n          \"Jure Praprotnik\",\n          \"Christian Schiemann\",\n          \"Mauricio Espinosa\",\n          \"Pau Cebri\\u00e1n\",\n          \"Mohamed Ahmed Al Hammadi\",\n          \"Mauro Tonolini\",\n          \"Marvin Torrentera\",\n          \"Taleb Salem Al Marri\",\n          \"Juan Carlos Mora\",\n          \"Corey Rockwell\",\n          \"Daniele Orsato\",\n          \"Bertrand Brial\",\n          \"Jerson dos Santos\",\n          \"Nicol\\u00e1s Tar\\u00e1n\",\n          \"Eduardo Cardozo\",\n          \"Erwin Zeinstra\",\n          \"Anouar Hmila\",\n          \"Emerson Augusto De Carvalho\",\n          \"Toru Sagara\",\n          \"Sander van Roekel\",\n          \"Danny Makkelie\",\n          \"Anton Averianov\",\n          \"Tikhon Kalugin\",\n          \"Djibril Camara\",\n          \"Hasan Mohamed Al Mahri\",\n          \"Milovan Risti\\u0107\",\n          \"Yaser Tulefat\",\n          \"Gabriel Victoria\",\n          \"Alexander Guzm\\u00e1n\"\n        ],\n        \"description\": \"column name: referees_4_name, dtype: object\"\n      },\n      {\n        \"datamart_id\": 127860040,\n        \"name\": \"referees_4_nationality\",\n        \"semantic_type\": [],\n        \"description\": \"column name: referees_4_nationality, dtype: object\"\n      },\n      {\n        \"datamart_id\": 127860041,\n        \"name\": \"referees_5_id\",\n        \"semantic_type\": [\n          \"http://schema.org/Integer\"\n        ],\n        \"description\": \"column name: referees_5_id, dtype: int64\"\n      },\n      {\n        \"datamart_id\": 127860042,\n        \"name\": \"referees_5_name\",\n        \"semantic_type\": [\n          \"http://schema.org/Text\"\n        ],\n        \"named_entity\": [\n          \"Artur Soares Dias\",\n          \"Mauro Vigliano\",\n          \"Cl\\u00e9ment Turpin\",\n          \"Paolo Valeri\",\n          \"Bastian Dankert\",\n          \"Sandro Ricci\",\n          \"Mark Borsch\",\n          \"Carlos Astroza\",\n          \"Felix Zwayer\",\n          \"Massimiliano Irrati\",\n          \"Szymon Marciniak\",\n          \"Daniele Orsato\",\n          \"Mark Geiger\",\n          \"Tiago Martins\",\n          \"Danny Makkelie\",\n          \"Roberto D\\u00edaz\"\n        ],\n        \"description\": \"column name: referees_5_name, dtype: object\"\n      },\n      {\n        \"datamart_id\": 127860043,\n        \"name\": \"referees_5_nationality\",\n        \"semantic_type\": [],\n        \"description\": \"column name: referees_5_nationality, dtype: object\"\n      },\n      {\n        \"datamart_id\": 127860044,\n        \"name\": \"referees_6_id\",\n        \"semantic_type\": [\n          \"http://schema.org/Integer\"\n        ],\n        \"description\": \"column name: referees_6_id, dtype: int64\"\n      },\n      {\n        \"datamart_id\": 127860045,\n        \"name\": \"referees_6_name\",\n        \"semantic_type\": [\n          \"http://schema.org/Text\"\n        ],\n        \"named_entity\": [\n          \"Artur Soares Dias\",\n          \"Bastian Dankert\",\n          \"Carlos Astroza\",\n          \"Joe Fletcher\",\n          \"Felix Zwayer\",\n          \"Tiago Martins\",\n          \"Abdelrahman Al Jassim\",\n          \"Jair Marrufo\",\n          \"Roberto D\\u00edaz\",\n          \"Paolo Valeri\",\n          \"Cl\\u00e9ment Turpin\",\n          \"Gery Vargas\",\n          \"Corey Rockwell\",\n          \"Daniele Orsato\",\n          \"Cyril Gringore\",\n          \"Hern\\u00e1n Maidana\",\n          \"Sander van Roekel\",\n          \"Mauro Vigliano\",\n          \"Pawe\\u0142 Gil\",\n          \"Pawe\\u0142 Sokolnicki\",\n          \"Wilton Pereira Sampaio\"\n        ],\n        \"description\": \"column name: referees_6_name, dtype: object\"\n      },\n      {\n        \"datamart_id\": 127860046,\n        \"name\": \"referees_6_nationality\",\n        \"semantic_type\": [],\n        \"description\": \"column name: referees_6_nationality, dtype: object\"\n      },\n      {\n        \"datamart_id\": 127860047,\n        \"name\": \"referees_7_id\",\n        \"semantic_type\": [\n          \"http://schema.org/Integer\"\n        ],\n        \"description\": \"column name: referees_7_id, dtype: int64\"\n      },\n      {\n        \"datamart_id\": 127860048,\n        \"name\": \"referees_7_name\",\n        \"semantic_type\": [\n          \"http://schema.org/Text\"\n        ],\n        \"named_entity\": [\n          \"Artur Soares Dias\",\n          \"Bastian Dankert\",\n          \"Carlos Astroza\",\n          \"Joe Fletcher\",\n          \"Massimiliano Irrati\",\n          \"Felix Zwayer\",\n          \"Elenito Di Liberatore\",\n          \"Tiago Martins\",\n          \"Roberto D\\u00edaz\",\n          \"Paolo Valeri\",\n          \"Gery Vargas\",\n          \"Marvin Torrentera\",\n          \"Taleb Salem Al Marri\",\n          \"Corey Rockwell\",\n          \"Tevita Makasini\",\n          \"Mark Borsch\",\n          \"Emerson Augusto De Carvalho\",\n          \"Cyril Gringore\",\n          \"Hern\\u00e1n Maidana\",\n          \"Nicolas Danos\",\n          \"Sander van Roekel\",\n          \"Danny Makkelie\",\n          \"Mauro Vigliano\",\n          \"Pawe\\u0142 Gil\",\n          \"Pawe\\u0142 Sokolnicki\",\n          \"Simon Lount\",\n          \"Alexander Guzm\\u00e1n\"\n        ],\n        \"description\": \"column name: referees_7_name, dtype: object\"\n      },\n      {\n        \"datamart_id\": 127860049,\n        \"name\": \"referees_7_nationality\",\n        \"semantic_type\": [],\n        \"description\": \"column name: referees_7_nationality, dtype: object\"\n      },\n      {\n        \"datamart_id\": 127860050,\n        \"name\": \"referees_8_id\",\n        \"semantic_type\": [\n          \"http://schema.org/Integer\"\n        ],\n        \"description\": \"column name: referees_8_id, dtype: int64\"\n      },\n      {\n        \"datamart_id\": 127860051,\n        \"name\": \"referees_8_name\",\n        \"semantic_type\": [\n          \"http://schema.org/Text\"\n        ],\n        \"named_entity\": [\n          \"Artur Soares Dias\",\n          \"Bastian Dankert\",\n          \"Sandro Ricci\",\n          \"Felix Zwayer\",\n          \"Massimiliano Irrati\",\n          \"Tiago Martins\",\n          \"Pau Cebri\\u00e1n\",\n          \"Jair Marrufo\",\n          \"Cl\\u00e9ment Turpin\",\n          \"Paolo Valeri\",\n          \"Gery Vargas\",\n          \"Reza Sokhandan\",\n          \"Corey Rockwell\",\n          \"Daniele Orsato\",\n          \"Gianluca Rocchi\",\n          \"Jean-Claude Birumushahu\",\n          \"Danny Makkelie\",\n          \"Mauro Vigliano\",\n          \"Pawe\\u0142 Gil\",\n          \"Szymon Marciniak\",\n          \"Yaser Tulefat\",\n          \"Mark Geiger\",\n          \"Wilton Pereira Sampaio\"\n        ],\n        \"description\": \"column name: referees_8_name, dtype: object\"\n      },\n      {\n        \"datamart_id\": 127860052,\n        \"name\": \"referees_8_nationality\",\n        \"semantic_type\": [],\n        \"description\": \"column name: referees_8_nationality, dtype: object\"\n      }\n    ]\n  },\n  \"inner_hits\": {\n    \"variables\": {\n      \"hits\": {\n        \"total\": 2,\n        \"max_score\": 79.20483,\n        \"hits\": [\n          {\n            \"_index\": \"datamart_all\",\n            \"_type\": \"_doc\",\n            \"_id\": \"127860000\",\n            \"_nested\": {\n              \"field\": \"variables\",\n              \"offset\": 24\n            },\n            \"_score\": 79.20483,\n            \"_source\": {},\n            \"highlight\": {\n              \"variables.named_entity\": [\n                \"Uruguay\",\n                \"Egypt\",\n                \"Colombia\",\n                \"Argentina\",\n                \"Tunisia\",\n                \"France\",\n                \"Korea Republic\",\n                \"Panama\",\n                \"Iceland\",\n                \"Mexico\",\n                \"England\",\n                \"Croatia\",\n                \"Switzerland\",\n                \"Serbia\",\n                \"Poland\",\n                \"Saudi Arabia\",\n                \"Spain\",\n                \"Belgium\",\n                \"Costa Rica\",\n                \"Australia\",\n                \"Russia\",\n                \"Senegal\",\n                \"Brazil\",\n                \"Iran\",\n                \"Denmark\",\n                \"Japan\",\n                \"Portugal\",\n                \"Nigeria\",\n                \"Germany\",\n                \"Sweden\",\n                \"Peru\",\n                \"Morocco\"\n              ]\n            },\n            \"matched_queries\": [\n              \"saudi arabia\",\n              \"spain\",\n              \"brazil\",\n              \"japan\",\n              \"korea republic\",\n              \"portugal\",\n              \"germany\",\n              \"poland\",\n              \"costa rica\",\n              \"peru\",\n              \"panama\",\n              \"denmark\",\n              \"russia\",\n              \"argentina\",\n              \"sweden\",\n              \"france\",\n              \"serbia\",\n              \"belgium\",\n              \"colombia\",\n              \"england\",\n              \"egypt\",\n              \"nigeria\",\n              \"iran\",\n              \"switzerland\",\n              \"iceland\",\n              \"australia\",\n              \"senegal\",\n              \"croatia\",\n              \"mexico\",\n              \"tunisia\",\n              \"morocco\",\n              \"uruguay\"\n            ]\n          },\n          {\n            \"_index\": \"datamart_all\",\n            \"_type\": \"_doc\",\n            \"_id\": \"127860000\",\n            \"_nested\": {\n              \"field\": \"variables\",\n              \"offset\": 22\n            },\n            \"_score\": 79.20483,\n            \"_source\": {},\n            \"highlight\": {\n              \"variables.named_entity\": [\n                \"Egypt\",\n                \"Uruguay\",\n                \"Colombia\",\n                \"Argentina\",\n                \"Tunisia\",\n                \"France\",\n                \"Korea Republic\",\n                \"Panama\",\n                \"Iceland\",\n                \"Mexico\",\n                \"Croatia\",\n                \"England\",\n                \"Switzerland\",\n                \"Poland\",\n                \"Serbia\",\n                \"Saudi Arabia\",\n                \"Spain\",\n                \"Belgium\",\n                \"Costa Rica\",\n                \"Australia\",\n                \"Russia\",\n                \"Senegal\",\n                \"Brazil\",\n                \"Iran\",\n                \"Denmark\",\n                \"Japan\",\n                \"Portugal\",\n                \"Nigeria\",\n                \"Germany\",\n                \"Sweden\",\n                \"Peru\",\n                \"Morocco\"\n              ]\n            },\n            \"matched_queries\": [\n              \"saudi arabia\",\n              \"spain\",\n              \"brazil\",\n              \"japan\",\n              \"korea republic\",\n              \"portugal\",\n              \"germany\",\n              \"poland\",\n              \"costa rica\",\n              \"peru\",\n              \"panama\",\n              \"denmark\",\n              \"russia\",\n              \"argentina\",\n              \"sweden\",\n              \"france\",\n              \"serbia\",\n              \"belgium\",\n              \"colombia\",\n              \"england\",\n              \"egypt\",\n              \"nigeria\",\n              \"iran\",\n              \"switzerland\",\n              \"iceland\",\n              \"australia\",\n              \"senegal\",\n              \"croatia\",\n              \"mexico\",\n              \"tunisia\",\n              \"morocco\",\n              \"uruguay\"\n            ]\n          }\n        ]\n      }\n    }\n  }\n}\n"
     ]
    }
   ],
   "source": [
    "print(json.dumps(query_result[0], indent=2))"
   ]
  },
  {
   "cell_type": "markdown",
   "metadata": {},
   "source": [
    "#### Materialize the dataset and show some lines"
   ]
  },
  {
   "cell_type": "code",
   "execution_count": 8,
   "metadata": {
    "collapsed": false
   },
   "outputs": [
    {
     "name": "stdout",
     "output_type": "stream",
     "text": [
      "       id  season_id season_startDate season_endDate  season_currentMatchday  \\\n0  200000          1       2018-06-14     2018-07-15                       3   \n1  200001          1       2018-06-14     2018-07-15                       3   \n2  200006          1       2018-06-14     2018-07-15                       3   \n3  200007          1       2018-06-14     2018-07-15                       3   \n4  200012          1       2018-06-14     2018-07-15                       3   \n5  200018          1       2018-06-14     2018-07-15                       3   \n6  200013          1       2018-06-14     2018-07-15                       3   \n7  200019          1       2018-06-14     2018-07-15                       3   \n8  200024          1       2018-06-14     2018-07-15                       3   \n9  200030          1       2018-06-14     2018-07-15                       3   \n\n                utcDate    status  matchday        stage    group  \\\n0  2018-06-14T15:00:00Z  FINISHED       1.0  GROUP_STAGE  Group A   \n1  2018-06-15T12:00:00Z  FINISHED       1.0  GROUP_STAGE  Group A   \n2  2018-06-15T15:00:00Z  FINISHED       1.0  GROUP_STAGE  Group B   \n3  2018-06-15T18:00:00Z  FINISHED       1.0  GROUP_STAGE  Group B   \n4  2018-06-16T10:00:00Z  FINISHED       1.0  GROUP_STAGE  Group C   \n5  2018-06-16T13:00:00Z  FINISHED       1.0  GROUP_STAGE  Group D   \n6  2018-06-16T16:00:00Z  FINISHED       1.0  GROUP_STAGE  Group C   \n7  2018-06-16T19:00:00Z  FINISHED       1.0  GROUP_STAGE  Group D   \n8  2018-06-17T12:00:00Z  FINISHED       1.0  GROUP_STAGE  Group E   \n9  2018-06-17T15:00:00Z  FINISHED       1.0  GROUP_STAGE  Group F   \n\n            ...           referees_5_nationality referees_6_id  \\\n0           ...                             None         49527   \n1           ...                             None         43884   \n2           ...                             None         15746   \n3           ...                             None         11075   \n4           ...                             None         49487   \n5           ...                             None         55725   \n6           ...                             None         15746   \n7           ...                             None         11412   \n8           ...                             None         43854   \n9           ...                             None         11412   \n\n          referees_6_name  referees_6_nationality  referees_7_id  \\\n0          Mauro Vigliano                    None          49528   \n1          Cyril Gringore                    None          43854   \n2         Bastian Dankert                    None          43876   \n3            Paolo Valeri                    None          49528   \n4          Hernán Maidana                    None          15713   \n5            Joe Fletcher                    None          43854   \n6         Bastian Dankert                    None          43876   \n7  Wilton Pereira Sampaio                    None          49487   \n8               Paweł Gil                    None          43884   \n9  Wilton Pereira Sampaio                    None          49528   \n\n   referees_7_name  referees_7_nationality  referees_8_id    referees_8_name  \\\n0   Carlos Astroza                    None          11116     Daniele Orsato   \n1        Paweł Gil                    None           9374     Clément Turpin   \n2      Mark Borsch                    None          55667       Jair Marrufo   \n3   Carlos Astroza                    None          11116     Daniele Orsato   \n4    Tiago Martins                    None          55667       Jair Marrufo   \n5        Paweł Gil                    None          18127        Gery Vargas   \n6      Mark Borsch                    None          43899     Danny Makkelie   \n7   Hernán Maidana                    None          43540  Artur Soares Dias   \n8   Cyril Gringore                    None          43540  Artur Soares Dias   \n9   Carlos Astroza                    None          55724        Mark Geiger   \n\n   referees_8_nationality  \n0                    None  \n1                    None  \n2                    None  \n3                    None  \n4                    None  \n5                    None  \n6                    None  \n7                    None  \n8                    None  \n9                    None  \n\n[10 rows x 52 columns]\n"
     ]
    }
   ],
   "source": [
    "new_df = Utils.get_dataset(metadata=query_result[0][\"_source\"])\n",
    "print(new_df.iloc[:10, :])"
   ]
  },
  {
   "cell_type": "markdown",
   "metadata": {},
   "source": [
    "#### Columns useful for join"
   ]
  },
  {
   "cell_type": "code",
   "execution_count": 9,
   "metadata": {},
   "outputs": [
    {
     "name": "stdout",
     "output_type": "stream",
     "text": [
      "         Date          Team      Opponent\n0  14-06-2018        Russia  Saudi Arabia\n1  14-06-2018  Saudi Arabia        Russia\n2  15-06-2018         Egypt       Uruguay\n3  15-06-2018       Uruguay         Egypt\n4  15-06-2018       Morocco          Iran\n5  15-06-2018          Iran       Morocco\n6  15-06-2018      Portugal         Spain\n7  15-06-2018         Spain      Portugal\n8  16-06-2018        France     Australia\n9  16-06-2018     Australia        France\n"
     ]
    }
   ],
   "source": [
    "print(old_df[[\"Date\", \"Team\", \"Opponent\"]].iloc[:10, :])"
   ]
  },
  {
   "cell_type": "code",
   "execution_count": 10,
   "metadata": {},
   "outputs": [
    {
     "name": "stdout",
     "output_type": "stream",
     "text": [
      "                utcDate homeTeam_name awayTeam_name\n0  2018-06-14T15:00:00Z        Russia  Saudi Arabia\n1  2018-06-15T12:00:00Z         Egypt       Uruguay\n2  2018-06-15T15:00:00Z       Morocco          Iran\n3  2018-06-15T18:00:00Z      Portugal         Spain\n4  2018-06-16T10:00:00Z        France     Australia\n5  2018-06-16T13:00:00Z     Argentina       Iceland\n6  2018-06-16T16:00:00Z          Peru       Denmark\n7  2018-06-16T19:00:00Z       Croatia       Nigeria\n8  2018-06-17T12:00:00Z    Costa Rica        Serbia\n9  2018-06-17T15:00:00Z       Germany        Mexico\n"
     ]
    }
   ],
   "source": [
    "print(new_df[[\"utcDate\", \"homeTeam_name\", \"awayTeam_name\"]].iloc[:10, :])"
   ]
  },
  {
   "cell_type": "markdown",
   "metadata": {},
   "source": [
    "#### Default join for current datamart"
   ]
  },
  {
   "cell_type": "code",
   "execution_count": 11,
   "metadata": {},
   "outputs": [],
   "source": [
    "df = augment.join(left_df=old_df,\n",
    "                  right_df=new_df,\n",
    "                  left_columns=[[old_df.columns.tolist().index(x)] for x in [\"Team\", \"Opponent\"]],\n",
    "                  right_columns=[[new_df.columns.tolist().index(x)] for x in [\"homeTeam_name\", \"awayTeam_name\"]])\n",
    "\n",
    "df.to_csv(\"./example/fifa_example/augmented.csv\", index=False)"
   ]
  },
  {
   "cell_type": "markdown",
   "metadata": {},
   "source": [
    "### Because of the supplied dataset has two rows for one single game.\n",
    "### Current simple default join can not augment both of them. \n",
    "### ISI is working on some sophasticate join which should be able to handle cases not limited to this"
   ]
  },
  {
   "cell_type": "code",
   "execution_count": null,
   "metadata": {},
   "outputs": [],
   "source": []
  }
 ],
 "metadata": {
  "kernelspec": {
   "display_name": "Python 2",
   "language": "python",
   "name": "python2"
  },
  "language_info": {
   "codemirror_mode": {
    "name": "ipython",
    "version": 2
   },
   "file_extension": ".py",
   "mimetype": "text/x-python",
   "name": "python",
   "nbconvert_exporter": "python",
   "pygments_lexer": "ipython2",
   "version": "2.7.6"
  }
 },
 "nbformat": 4,
 "nbformat_minor": 0
}
